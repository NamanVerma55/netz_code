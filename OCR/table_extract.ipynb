{
  "cells": [
    {
      "cell_type": "code",
      "execution_count": 7,
      "metadata": {
        "colab": {
          "base_uri": "https://localhost:8080/"
        },
        "id": "mTLPfQvMECGv",
        "outputId": "f26459d2-a3b8-4960-eba6-8b9c72d1d09e"
      },
      "outputs": [
        {
          "name": "stdout",
          "output_type": "stream",
          "text": [
            "\u001b[2K   \u001b[90m━━━━━━━━━━━━━━━━━━━━━━━━━━━━━━━━━━━━━━━━\u001b[0m \u001b[32m1.6/1.6 MB\u001b[0m \u001b[31m69.9 MB/s\u001b[0m eta \u001b[36m0:00:00\u001b[0m\n",
            "\u001b[2K   \u001b[90m━━━━━━━━━━━━━━━━━━━━━━━━━━━━━━━━━━━━━━━━\u001b[0m \u001b[32m241.0/241.0 kB\u001b[0m \u001b[31m22.9 MB/s\u001b[0m eta \u001b[36m0:00:00\u001b[0m\n",
            "\u001b[2K   \u001b[90m━━━━━━━━━━━━━━━━━━━━━━━━━━━━━━━━━━━━━━━━\u001b[0m \u001b[32m298.0/298.0 kB\u001b[0m \u001b[31m27.4 MB/s\u001b[0m eta \u001b[36m0:00:00\u001b[0m\n",
            "\u001b[2K   \u001b[90m━━━━━━━━━━━━━━━━━━━━━━━━━━━━━━━━━━━━━━━━\u001b[0m \u001b[32m1.2/1.2 MB\u001b[0m \u001b[31m71.2 MB/s\u001b[0m eta \u001b[36m0:00:00\u001b[0m\n",
            "\u001b[2K   \u001b[90m━━━━━━━━━━━━━━━━━━━━━━━━━━━━━━━━━━━━━━━━\u001b[0m \u001b[32m49.6/49.6 kB\u001b[0m \u001b[31m4.7 MB/s\u001b[0m eta \u001b[36m0:00:00\u001b[0m\n",
            "\u001b[?25h"
          ]
        }
      ],
      "source": [
        "!pip install -qU llama-index llama-parse"
      ]
    },
    {
      "cell_type": "code",
      "execution_count": 3,
      "metadata": {
        "id": "TWSI1wCwhRPv"
      },
      "outputs": [],
      "source": [
        "import os"
      ]
    },
    {
      "cell_type": "code",
      "execution_count": 1,
      "metadata": {
        "id": "XUCt41OPaDrw"
      },
      "outputs": [],
      "source": [
        "api_key=\"llx-0npac23OD9KHrCcSQTlN6WAKHz\""
      ]
    },
    {
      "cell_type": "code",
      "execution_count": 4,
      "metadata": {
        "id": "HZYNcNx0hMHf"
      },
      "outputs": [],
      "source": [
        "os.environ['LLAMA_INDEX_API_KEY'] = api_key"
      ]
    },
    {
      "cell_type": "code",
      "execution_count": 5,
      "metadata": {
        "id": "QPY_8POthUOz"
      },
      "outputs": [],
      "source": [
        "import nest_asyncio\n",
        "nest_asyncio.apply()"
      ]
    },
    {
      "cell_type": "code",
      "execution_count": 8,
      "metadata": {
        "id": "SVpEmIWvhb8V"
      },
      "outputs": [],
      "source": [
        "from llama_parse import LlamaParse"
      ]
    },
    {
      "cell_type": "code",
      "execution_count": 10,
      "metadata": {
        "colab": {
          "base_uri": "https://localhost:8080/"
        },
        "id": "CclcU0olhYPU",
        "outputId": "09ecffcc-5b7e-4dae-bb63-d8b8075e2061"
      },
      "outputs": [
        {
          "name": "stdout",
          "output_type": "stream",
          "text": [
            "Started parsing the file under job_id d288834b-3d63-4cd3-aaa3-a0f4077ef8b2\n",
            "......"
          ]
        }
      ],
      "source": [
        "doccument = LlamaParse(result_type=\"markdown\",api_key=api_key).load_data(\"/content/SIW Issue 363 09_04_1999 1.pdf\")"
      ]
    },
    {
      "cell_type": "code",
      "execution_count": 15,
      "metadata": {
        "colab": {
          "base_uri": "https://localhost:8080/"
        },
        "id": "JtD9r0Szh93d",
        "outputId": "0dde6276-418c-4a39-a576-7a0497f12782"
      },
      "outputs": [
        {
          "data": {
            "text/plain": [
              "Document(id_='f374a84d-6af9-484e-ac92-f374007c016c', embedding=None, metadata={}, excluded_embed_metadata_keys=[], excluded_llm_metadata_keys=[], relationships={}, metadata_template='{key}: {value}', metadata_separator='\\n', text_resource=MediaResource(embeddings=None, data=None, text='# Shipping Intelligence Weekly\\n\\n# Issue No. 363\\n\\n# 9-Apr-1999\\n\\n# ISSN: 1358-8028\\n\\nLicensed to payman@soshianest.ai. Distribution is restricted; please remember to acknowledge the source https://www.clarksons.net (135599 03/02/2024 08:14:42).\\n\\n# Highlights\\n\\n# The Atlantic Market This Week\\n\\n|Market Sector|Status|\\n|---|---|\\n|VLCC|Rates East and West slumped this week. AG/East at W39, AG/Red Sea at W38. No immediate improvement in sight………….p.2.|\\n|Suezmax|WAF came off but tonnage looks tighter for the end of the month so rates should pick up. Med rates have come off slightly ………..p. 2.|\\n|Aframax|Lack of enquiry sent AG/East markets tumbling. N.Sea and Black Sea/Med both still weak. Caribs is the only healthy market………..p.2.|\\n|Products Market|Dirty UKC market activity up and tonnage tightening. However surplus tonnage due to come in from weak Caribs market……...p.3.|\\n|Capesize Market|Pacific and Atlantic softening. Lack of general enquiry. Capesize Spot Index down 4 to 43. Average earnings down 8%…..……...….p.4.|\\n|Panamax Market|Atlantic and Pacific softening. Nopac/Japan down $1/t to $9.00/t. Panamax spot earnings down 8%. Trip Index down 5 to 51…….p.4/5.|\\n|Handymax Market|Pacific and Atlantic softening. Lacking activity. Average earnings stable. Clarkson Handymax Index unchanged……………………..p.5.|\\n|S & P Market|Heavy downward pressure on freight rates dampens enquiry for tanker units…………………..…p.i.|\\n|Newbuilding|Cargo vessel contracting down 62% year‑on‑year for 1Q 1999 in dwt terms – Hanjin active in Post‑Panamax container sector……p.10.|\\n|Demolition|Market dominated by rumours of VLCC demolition sale spree – 315,695 dwt, 1975‑built ‘Mosking’ only confirmed sale to date…..p.11.|\\n\\n# Contact Information\\n\\n|TANKERS|DRY CARGO|SALE & PURCHASE|BUNKERS|\\n|---|---|---|---|\\n|Telephone 0171 283 9010|Telephone 0171 283 8977|TELEPHONE 12, CAMOMILE STREET|Telephone 0171 283 9010|\\n|Telex 8812927 CLTNKA G|Telex 887811 CLDRYA G|0171 283 8955|Telex 886661 CLSNPA G|\\n|Telefax 0171 623 8703|Telefax 0171 626 4189|LONDON EC3A 7BP, ENGLAND|Telefax 0171 626 0798|\\n|E‑mail: crs@clarksons.co.uk|Web‑site: http://www.clarksons.co.uk/research/| | |\\n\\nWorld Copyright reserved to: CLARKSON RESEARCH STUDIES 1999', path=None, url=None, mimetype=None), image_resource=None, audio_resource=None, video_resource=None, text_template='{metadata_str}\\n\\n{content}')"
            ]
          },
          "execution_count": 15,
          "metadata": {},
          "output_type": "execute_result"
        }
      ],
      "source": [
        "doccument[0]"
      ]
    },
    {
      "cell_type": "code",
      "execution_count": 16,
      "metadata": {
        "colab": {
          "base_uri": "https://localhost:8080/"
        },
        "id": "ni9CWqUDmR8i",
        "outputId": "e691882a-6b46-46d6-aea5-853c45ee13d5"
      },
      "outputs": [
        {
          "name": "stdout",
          "output_type": "stream",
          "text": [
            "Saved: output_1.md\n",
            "Saved: output_2.md\n",
            "Saved: output_3.md\n",
            "Saved: output_4.md\n",
            "Saved: output_5.md\n",
            "Saved: output_6.md\n",
            "Saved: output_7.md\n",
            "Saved: output_8.md\n",
            "Saved: output_9.md\n",
            "Saved: output_10.md\n",
            "Saved: output_11.md\n",
            "Saved: output_12.md\n",
            "Saved: output_13.md\n",
            "Saved: output_14.md\n",
            "Saved: output_15.md\n",
            "Saved: output_16.md\n",
            "Saved: output_17.md\n",
            "Saved: output_18.md\n",
            "Saved: output_19.md\n",
            "Saved: output_20.md\n"
          ]
        }
      ],
      "source": [
        "# Ensure you have a 'documents' list with text content\n",
        "for i, doc in enumerate(doccument):\n",
        "    file_name = f\"output_{i + 1}.md\"  # Create unique filenames like output_1.md, output_2.md, etc.\n",
        "    with open(file_name, 'w') as file:\n",
        "        file.write(doc.text)  # Save the content of each document into a separate file\n",
        "    print(f\"Saved: {file_name}\")  # Print confirmation\n"
      ]
    }
  ],
  "metadata": {
    "accelerator": "GPU",
    "colab": {
      "gpuType": "T4",
      "provenance": []
    },
    "kernelspec": {
      "display_name": "Python 3",
      "name": "python3"
    },
    "language_info": {
      "name": "python"
    }
  },
  "nbformat": 4,
  "nbformat_minor": 0
}
